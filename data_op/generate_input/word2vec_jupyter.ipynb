{
 "cells": [
  {
   "cell_type": "code",
   "execution_count": null,
   "metadata": {
    "collapsed": true
   },
   "outputs": [],
   "source": [
    "from gensim.models import Word2Vec\n",
    "import os\n",
    "import pandas as pd\n",
    "import torch\n",
    "\n",
    "import time\n",
    "import math\n",
    "\n",
    "import matplotlib.pyplot as plt\n",
    "\n",
    "\"\"\"=================RNN=====================\"\"\"\n",
    "import torch.nn as nn\n",
    "\n",
    "device = torch.device(\"cuda:0\")\n",
    "\n",
    "\n",
    "class RNN(nn.Module):\n",
    "\n",
    "    def __init__(self, input_size, hidden_size, output_size):\n",
    "        super(RNN, self).__init__()\n",
    "\n",
    "        self.hidden_size = hidden_size\n",
    "\n",
    "        self.i20 = nn.Linear(input_size+hidden_size, output_size)\n",
    "        self.i2h = nn.Linear(input_size+hidden_size, hidden_size)\n",
    "        self.softmax = nn.LogSoftmax(dim=1)\n",
    "\n",
    "    def forward(self, input, hidden):\n",
    "        x = torch.cat((input, hidden), 1)\n",
    "        hidden = self.i2h(x)\n",
    "        output = self.i20(x)\n",
    "        output = self.softmax(output)\n",
    "        return output, hidden\n",
    "\n",
    "    def initHidden(self):\n",
    "        return torch.zeros(1, self.hidden_size)\n",
    "\n"
   ]
  },
  {
   "cell_type": "code",
   "execution_count": null,
   "outputs": [],
   "source": [
    "\"\"\"======================================读取文件数据，数据处理========================================\"\"\"\n",
    "# dataset_path = \"C:/Users/77037/PycharmProjects/untitled/LSTM_gat_data/labeled_june-train-sub5000.csv\"\n",
    "# dataset_path = \"../../../LSTM_gat_data/labeled_june-train-sub5000.csv\"\n",
    "main_dataset_path = \"../../../LSTM_gat_data/labeled-June-10min(P)-RAN-20191023.csv\"\n",
    "# my_data = pd.read_csv(dataset_path, header=0, index_col=None)\n",
    "\n",
    "\n",
    "# 输出按序列去重后的数据列表及各个id中含有的告警数计数列表\n",
    "def data_option(data_path, drop_duplicates=False, padd_seq_len=None):\n",
    "\n",
    "    my_data = pd.read_csv(data_path, header=0, index_col=None)\n",
    "\n",
    "    # 过滤掉没有根因的\n",
    "    dropId = set({})\n",
    "    for egroup in my_data.groupby(by='ID'):\n",
    "        if 1 not in egroup[1]['Label'].values:\n",
    "            dropId.add(egroup[0])\n",
    "    data = my_data[my_data['ID'].isin(dropId) == False]\n",
    "    # data_target只包含接下来用到的列\n",
    "    useful_cols = ['ID', 'Alarm Name', 'Label', 'Root Alarm']\n",
    "\n",
    "    if drop_duplicates:\n",
    "        # 去重\n",
    "        dataset_target = data[useful_cols].drop_duplicates()\n",
    "    else:\n",
    "        dataset_target = data[useful_cols]\n",
    "\n",
    "    if padd_seq_len is None:\n",
    "        # 各个id的告警计数写入对应的特征：dataset_target.groupby(by='ID').count()\n",
    "        # .value_counts()：对所有alarmname出现次数值对应的次数记录（如有10个id都有5个告警，则对应的输出为 5 10）\n",
    "        # 降序排列id内告警个数\n",
    "        alarm_seq_len_distribution = dataset_target.groupby(by='ID').count()['Alarm Name'].value_counts().sort_index(\n",
    "            ascending=False\n",
    "        )\n",
    "        # print(alarm_seq_len_distribution)\n",
    "        # padding by max len，id内包含告警个数的最大值\n",
    "\n",
    "    return dataset_target, alarm_seq_len_distribution\n",
    "\n",
    "\n",
    "# 输出按序列去重后的数据列表及各个id中含有的告警数计数列表\n",
    "dataset_target, alarm_seq_len_distribution = data_option(main_dataset_path, drop_duplicates=False,\n",
    "                                                         padd_seq_len=None)\n",
    "padd_seq_len = alarm_seq_len_distribution.index[0]\n",
    "\n"
   ],
   "metadata": {
    "collapsed": false,
    "pycharm": {
     "name": "#%%\n"
    }
   }
  },
  {
   "cell_type": "code",
   "execution_count": null,
   "outputs": [],
   "source": [
    "\n",
    "# 生成后续训练和验证所需的特征列表\n",
    "def generate_feat_list(dataset_target):\n",
    "    # alarm name的list集合\n",
    "    alarm_name_list = []\n",
    "    root_list = []\n",
    "    # 字典中所有的alarm(去重，等价于求dictionary）\n",
    "    singel_alarm_list = []\n",
    "    # 所有的id列表\n",
    "    ids_list = dataset_target['ID'].unique().tolist()\n",
    "\n",
    "    # 按ID记录各个alarm的特征数据\n",
    "    for eid in ids_list:\n",
    "        cur_df = dataset_target[dataset_target['ID'] == eid]\n",
    "        alarm_name_list.append(cur_df['Alarm Name'].values.tolist())\n",
    "        root_list.append(cur_df['Root Alarm'].values.tolist()[0])  # 单个root alarm的类型为str\n",
    "        for alarm in cur_df['Alarm Name'].values.tolist():\n",
    "            singel_alarm_list.append(alarm)\n",
    "        singel_alarm_list = dataset_target['Alarm Name'].values.tolist()\n",
    "        alarm_dic = list(set(singel_alarm_list))  # 去重\n",
    "\n",
    "    return alarm_name_list, root_list, singel_alarm_list, ids_list, alarm_dic\n",
    "\n",
    "\n",
    "alarm_name_list, root_list, singel_alarm_list, ids_list, alarm_dic = generate_feat_list(dataset_target)\n",
    "\n",
    "print(\"alarm dictionary\")\n",
    "print(alarm_dic)\n",
    "print(singel_alarm_list)\n",
    "alarm_count = len(singel_alarm_list)"
   ],
   "metadata": {
    "collapsed": false,
    "pycharm": {
     "name": "#%%\n"
    }
   }
  }
 ],
 "metadata": {
  "language_info": {
   "codemirror_mode": {
    "name": "ipython",
    "version": 2
   },
   "file_extension": ".py",
   "mimetype": "text/x-python",
   "name": "python",
   "nbconvert_exporter": "python",
   "pygments_lexer": "ipython2",
   "version": "2.7.6"
  },
  "kernelspec": {
   "name": "python3",
   "language": "python",
   "display_name": "Python 3"
  },
  "pycharm": {
   "stem_cell": {
    "cell_type": "raw",
    "source": [],
    "metadata": {
     "collapsed": false
    }
   }
  }
 },
 "nbformat": 4,
 "nbformat_minor": 0
}