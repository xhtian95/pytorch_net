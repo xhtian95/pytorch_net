{
 "cells": [
  {
   "cell_type": "code",
   "execution_count": 34,
   "metadata": {
    "pycharm": {
     "is_executing": false
    }
   },
   "outputs": [
    {
     "name": "stdout",
     "output_type": "stream",
     "text": [
      "out_name: labeled_june\n",
      "out_name_01 labeled_june-01\n",
      "      First Occurrence             Alarm Name      Alarm Source  \\\n",
      "0  2019-06-01 12:00:27        SCTP Link Fault  110897_ACIH_MBTS   \n",
      "1  2019-06-01 12:02:56     NE Is Disconnected  110897_ACIH_MBTS   \n",
      "2  2019-06-01 12:03:03  IP Clock Link Failure  110897_ACIH_MBTS   \n",
      "3  2019-06-01 12:00:30        SCTP Link Fault  110358_ACHM_MBTS   \n",
      "4  2019-06-01 12:02:56     NE Is Disconnected  110358_ACHM_MBTS   \n",
      "\n",
      "   EMS Serial Number  ID       Root Alarm  Label  \n",
      "0        255112909.0   1  SCTP Link Fault      1  \n",
      "1        255072934.0   1  SCTP Link Fault      0  \n",
      "2        255112964.0   1  SCTP Link Fault      0  \n",
      "3        255113170.0   2  SCTP Link Fault      1  \n",
      "4        255072935.0   2  SCTP Link Fault      0  \n"
     ]
    }
   ],
   "source": [
    "import numpy as np\n",
    "import pandas as pd\n",
    "import os\n",
    "import sys\n",
    "\n",
    "#input_file_path = \"../../labeled_june-train-sub5000.csv\"\n",
    "#input_file_path = \"C:/Users/77037/PycharmProjects/untitled/labeled_june.csv\"\n",
    "input_file_path = \"../../labeled_june.csv\"\n",
    "IDSuccessive = True  # 输入文件是否是ID 连续的\n",
    "\n",
    "df = pd.read_csv(input_file_path, header=0, index_col=None)\n",
    "\n",
    "#输出目录及文件名\n",
    "out_file_name = os.path.split(input_file_path)[1]\n",
    "out_file_name = out_file_name[:out_file_name.rfind('.')]  # 不包含后缀名\n",
    "out_file_name_01 = out_file_name + '-01'\n",
    "out_file_dir = '../../'\n",
    "print(\"out_name:\", out_file_name)\n",
    "print(\"out_name_01\", out_file_name_01)\n",
    "print(df[:5])\n"
   ]
  },
  {
   "cell_type": "code",
   "execution_count": null,
   "metadata": {
    "pycharm": {
     "name": "#%%\n"
    }
   },
   "outputs": [
    {
     "name": "stdout",
     "output_type": "stream",
     "text": [
      "   ID             Alarm Name\n",
      "0   1        SCTP Link Fault\n",
      "1   1     NE Is Disconnected\n",
      "2   1  IP Clock Link Failure\n",
      "3   2        SCTP Link Fault\n",
      "4   2     NE Is Disconnected\n",
      "5   3       License on Trial\n",
      "6   3        SCTP Link Fault\n",
      "7   4  IP Clock Link Failure\n",
      "8   4        SCTP Link Fault\n",
      "9   5        SCTP Link Fault\n"
     ]
    }
   ],
   "source": [
    "from net_input_tools import generate_input1, generate_input2\n",
    "\n",
    "# 选取'ID','Alarm Name'列\n",
    "# df_1 = df.iloc[:, [4,1]]\n",
    "# print(df_1[:10])\n",
    "# df_1['ID'] = df_1['ID'].astype(np.int)\n",
    "df_1 = df.loc[:, ['ID', 'Alarm Name']]\n",
    "print(df_1[:10])\n",
    "df_1['ID'] = df_1['ID'].astype(np.int)\n",
    "\n",
    "if IDSuccessive:\n",
    "    net_input = generate_input1(df_1)\n",
    "    net_input_01 = generate_input1(df_1, binarizationFlag=True)\n",
    "else:\n",
    "    net_input = generate_input2(df_1)\n",
    "    net_input_01 = generate_input2(df_1, binarizationFlag=True)\n",
    "\n",
    "# 保存文件\n",
    "net_input.to_csv(os.path.join(out_file_dir, out_file_name+'_new.csv'), header=True, index=False)\n",
    "net_input_01.to_csv(os.path.join(out_file_dir, out_file_name_01+'_new.csv'), header=True, index=False)\n"
   ]
  },
  {
   "cell_type": "code",
   "execution_count": null,
   "metadata": {
    "pycharm": {
     "name": "#%%\n"
    }
   },
   "outputs": [],
   "source": [
    "net_input.shape\n",
    "# (89878, 158)\n"
   ]
  }
 ],
 "metadata": {
  "kernelspec": {
   "display_name": "Python 3",
   "language": "python",
   "name": "python3"
  },
  "language_info": {
   "codemirror_mode": {
    "name": "ipython",
    "version": 3
   },
   "file_extension": ".py",
   "mimetype": "text/x-python",
   "name": "python",
   "nbconvert_exporter": "python",
   "pygments_lexer": "ipython3",
   "version": "3.6.9"
  },
  "pycharm": {
   "stem_cell": {
    "cell_type": "raw",
    "metadata": {
     "collapsed": false
    },
    "source": []
   }
  }
 },
 "nbformat": 4,
 "nbformat_minor": 1
}
